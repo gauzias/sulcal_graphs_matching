{
 "cells": [
  {
   "cell_type": "code",
   "execution_count": 65,
   "id": "e6caa69c",
   "metadata": {},
   "outputs": [],
   "source": [
    "import sys\n",
    "sys.path.extend(['/home/rohit/PhD_Work/GM_my_version/Graph_matching'])\n",
    "import numpy as np\n",
    "import slam.io as sio\n",
    "import networkx as nx\n",
    "import tools.graph_visu as gv\n",
    "import tools.graph_processing as gp\n",
    "import pickle\n",
    "import os"
   ]
  },
  {
   "cell_type": "code",
   "execution_count": 2,
   "id": "a89be213",
   "metadata": {},
   "outputs": [],
   "source": [
    "file_template_mesh = '../data/template_mesh/lh.OASIS_testGrp_average_inflated.gii'\n",
    "file_mesh = '../data/example_individual_OASIS_0061/lh.white.gii'\n",
    "file_basins = '../data/example_individual_OASIS_0061/alpha0.03_an0_dn20_r1.5_L_area50FilteredTexture.gii'\n",
    "file_graph = '../data/example_individual_OASIS_0061/OAS1_0061_lh_pitgraph.gpickle'\n",
    "\n",
    "path_to_labelled_graphs = '../data/Oasis_original_new_with_dummy/labelled_graphs/'\n",
    "\n",
    "list_graphs = gp.load_graphs_in_list(path_to_labelled_graphs)\n",
    "\n",
    "graph = list_graphs[64]  # corresponds to 61st subject\n",
    "\n",
    "# TUTO 1 :: plot the graph on corresponding individual cortical mesh\n",
    "# load the mesh\n",
    "mesh = sio.load_mesh(file_mesh)\n",
    "# eventually smooth it a bit\n",
    "# import trimesh.smoothing as tms\n",
    "# mesh = tms.filter_laplacian(mesh, iterations=80)\n",
    "# load the basins texture\n",
    "tex_basins = sio.load_texture(file_basins)\n",
    "\n",
    "# modified_tex = tex_basins.darray[0]\n",
    "# modified_tex[tex_basins.darray[0]>354]=0\n",
    "# modified_tex[tex_basins.darray[0]<354]=0\n",
    "# # plot the mesh with basin texture"
   ]
  },
  {
   "cell_type": "code",
   "execution_count": null,
   "id": "984f8ea9",
   "metadata": {},
   "outputs": [],
   "source": []
  },
  {
   "cell_type": "code",
   "execution_count": null,
   "id": "ccc44d56",
   "metadata": {},
   "outputs": [],
   "source": []
  },
  {
   "cell_type": "code",
   "execution_count": 3,
   "id": "2b59bd2c",
   "metadata": {},
   "outputs": [],
   "source": [
    "# vb_sc = gv.visbrain_plot(mesh, tex=modified_tex, cmap='tab20c',\n",
    "#                          caption='Visu on individual mesh with basins',\n",
    "#                          cblabel='basins colors')\n",
    "# process the graph\n",
    "# 1 remove potential dummy nodes (which are not connected by any edge and have no coordinate) # (Not important for you Maxime)\n",
    "gp.remove_dummy_nodes(graph)\n",
    "# 2 compute nodes coordinates in 3D by retrieving the mesh vertex corresponding to each graph node, based on the\n",
    "matching_labels_tex = np.zeros_like(tex_basins.darray[0].copy())\n",
    "for n in graph.nodes:\n",
    "    lab_matching_value = graph.nodes.data()[n]['labelling_mALS']  \n",
    "    basin_tex_label = graph.nodes.data()[n]['basin_label']\n",
    "    matching_labels_tex[tex_basins.darray[0] == basin_tex_label] = lab_matching_value"
   ]
  },
  {
   "cell_type": "code",
   "execution_count": 39,
   "id": "da93623a",
   "metadata": {},
   "outputs": [
    {
     "data": {
      "text/plain": [
       "array([0.9426229, 0.9426229, 0.9426229, ..., 0.5368599, 0.537638 ,\n",
       "       0.5368599], dtype=float32)"
      ]
     },
     "execution_count": 39,
     "metadata": {},
     "output_type": "execute_result"
    }
   ],
   "source": [
    "matching_labels_tex"
   ]
  },
  {
   "cell_type": "code",
   "execution_count": 5,
   "id": "e39732c4",
   "metadata": {},
   "outputs": [
    {
     "name": "stderr",
     "output_type": "stream",
     "text": [
      "BrainObj(name='gui') created\n",
      "Creation of a scene\n",
      "    BrainObj(name='gui') added to the scene\n",
      "\u001b[1m\u001b[1;33mWARNING\u001b[0m | Data defined on a dense grid; ignore smoothing.\n",
      "    Add data to specific vertices.\n",
      "    Data scaled between (-1.000, 0.957)\n"
     ]
    }
   ],
   "source": [
    "vb_sc2 = gv.visbrain_plot(mesh, tex=matching_labels_tex, cmap='tab20c',\n",
    "                             caption='Visu on individual mesh with basins',\n",
    "                             cblabel='basins colors')"
   ]
  },
  {
   "cell_type": "code",
   "execution_count": 8,
   "id": "7dbda747",
   "metadata": {},
   "outputs": [],
   "source": [
    "nodes_coords = gp.graph_nodes_to_coords(graph, 'vertex_index', mesh)"
   ]
  },
  {
   "cell_type": "code",
   "execution_count": 9,
   "id": "5e148ea6",
   "metadata": {
    "scrolled": false
   },
   "outputs": [
    {
     "name": "stderr",
     "output_type": "stream",
     "text": [
      "SourceObj(name='nodes') created\n",
      "    95 sources detected\n",
      "    Color nodes using a data vector\n",
      "Get colorbar properties from SourceObj(name='nodes') object\n",
      "ColorbarObj(name='nodesCbar') created\n",
      "ConnectObj(name='edges') created\n",
      "    95 nodes detected\n",
      "    strength coloring method for connectivity\n",
      "    534 connectivity links displayed\n"
     ]
    },
    {
     "name": "stdout",
     "output_type": "stream",
     "text": [
      "LEN NODE DATA IN GV: 95\n"
     ]
    }
   ],
   "source": [
    "s_obj2, c_obj2, node_cb_obj2 = gv.show_graph(graph, nodes_coords, node_color_attribute='basin_label',\n",
    "                                              edge_color_attribute=None,\n",
    "                                              nodes_mask=None)"
   ]
  },
  {
   "cell_type": "code",
   "execution_count": 10,
   "id": "b67ae56a",
   "metadata": {
    "scrolled": false
   },
   "outputs": [
    {
     "data": {
      "text/plain": [
       "NodeView((0, 1, 2, 3, 4, 5, 6, 7, 8, 9, 10, 11, 12, 13, 14, 15, 16, 17, 18, 19, 20, 21, 22, 23, 24, 25, 26, 27, 28, 29, 30, 31, 32, 33, 34, 35, 36, 37, 38, 39, 40, 41, 42, 43, 44, 45, 46, 47, 48, 49, 50, 51, 52, 53, 54, 55, 56, 57, 58, 59, 60, 61, 62, 63, 64, 65, 66, 67, 68, 69, 70, 71, 72, 73, 74, 75, 76, 77, 78, 79, 80, 81, 82, 83, 84, 85, 86, 87, 88, 89, 90, 91, 92, 93, 94))"
      ]
     },
     "execution_count": 10,
     "metadata": {},
     "output_type": "execute_result"
    }
   ],
   "source": [
    "graph.nodes"
   ]
  },
  {
   "cell_type": "code",
   "execution_count": 11,
   "id": "831d7642",
   "metadata": {
    "scrolled": true
   },
   "outputs": [
    {
     "data": {
      "text/plain": [
       "95"
      ]
     },
     "execution_count": 11,
     "metadata": {},
     "output_type": "execute_result"
    }
   ],
   "source": [
    "len(nodes_coords)"
   ]
  },
  {
   "cell_type": "code",
   "execution_count": null,
   "id": "5ece54fd",
   "metadata": {
    "scrolled": true
   },
   "outputs": [],
   "source": [
    "# np.unique(np.array(list(nx.get_node_attributes(graph,'labelling_mALS').values())),return_counts=True)"
   ]
  },
  {
   "cell_type": "code",
   "execution_count": 31,
   "id": "a0e6e609",
   "metadata": {},
   "outputs": [],
   "source": [
    "correspondence = pickle.load(open( \"../Matlab_MGM_affintiy_gen/graph_correspondence_new.pickle\", \"rb\" ))\n",
    "correspondence = np.array(correspondence)"
   ]
  },
  {
   "cell_type": "code",
   "execution_count": 73,
   "id": "57a3496d",
   "metadata": {
    "scrolled": false
   },
   "outputs": [
    {
     "data": {
      "text/plain": [
       "'OAS1_0410'"
      ]
     },
     "execution_count": 73,
     "metadata": {},
     "output_type": "execute_result"
    }
   ],
   "source": [
    "correspondence[:,0][0].split('_lh')[0]"
   ]
  },
  {
   "cell_type": "code",
   "execution_count": 88,
   "id": "12a2e755",
   "metadata": {},
   "outputs": [],
   "source": [
    "path_subjects = '../data/OASIS_all_subjects/'\n",
    "path_sub_dir = '/dpfMap/alpha_0.03/an0_dn20_r1.5/alpha0.03_an0_dn20_r1.5_L_area50FilteredTexture.gii'"
   ]
  },
  {
   "cell_type": "code",
   "execution_count": 89,
   "id": "b563294c",
   "metadata": {},
   "outputs": [
    {
     "name": "stdout",
     "output_type": "stream",
     "text": [
      "../data/OASIS_all_subjects/OAS1_0410/dpfMap/alpha_0.03/an0_dn20_r1.5/alpha0.03_an0_dn20_r1.5_L_area50FilteredTexture.gii\n",
      "../data/OASIS_all_subjects/OAS1_0250/dpfMap/alpha_0.03/an0_dn20_r1.5/alpha0.03_an0_dn20_r1.5_L_area50FilteredTexture.gii\n",
      "../data/OASIS_all_subjects/OAS1_0153/dpfMap/alpha_0.03/an0_dn20_r1.5/alpha0.03_an0_dn20_r1.5_L_area50FilteredTexture.gii\n",
      "../data/OASIS_all_subjects/OAS1_0246/dpfMap/alpha_0.03/an0_dn20_r1.5/alpha0.03_an0_dn20_r1.5_L_area50FilteredTexture.gii\n",
      "../data/OASIS_all_subjects/OAS1_0151/dpfMap/alpha_0.03/an0_dn20_r1.5/alpha0.03_an0_dn20_r1.5_L_area50FilteredTexture.gii\n",
      "../data/OASIS_all_subjects/OAS1_0321/dpfMap/alpha_0.03/an0_dn20_r1.5/alpha0.03_an0_dn20_r1.5_L_area50FilteredTexture.gii\n",
      "../data/OASIS_all_subjects/OAS1_0080/dpfMap/alpha_0.03/an0_dn20_r1.5/alpha0.03_an0_dn20_r1.5_L_area50FilteredTexture.gii\n",
      "../data/OASIS_all_subjects/OAS1_0387/dpfMap/alpha_0.03/an0_dn20_r1.5/alpha0.03_an0_dn20_r1.5_L_area50FilteredTexture.gii\n",
      "../data/OASIS_all_subjects/OAS1_0055/dpfMap/alpha_0.03/an0_dn20_r1.5/alpha0.03_an0_dn20_r1.5_L_area50FilteredTexture.gii\n",
      "../data/OASIS_all_subjects/OAS1_0057/dpfMap/alpha_0.03/an0_dn20_r1.5/alpha0.03_an0_dn20_r1.5_L_area50FilteredTexture.gii\n",
      "../data/OASIS_all_subjects/OAS1_0409/dpfMap/alpha_0.03/an0_dn20_r1.5/alpha0.03_an0_dn20_r1.5_L_area50FilteredTexture.gii\n",
      "../data/OASIS_all_subjects/OAS1_0174/dpfMap/alpha_0.03/an0_dn20_r1.5/alpha0.03_an0_dn20_r1.5_L_area50FilteredTexture.gii\n",
      "../data/OASIS_all_subjects/OAS1_0397/dpfMap/alpha_0.03/an0_dn20_r1.5/alpha0.03_an0_dn20_r1.5_L_area50FilteredTexture.gii\n",
      "../data/OASIS_all_subjects/OAS1_0136/dpfMap/alpha_0.03/an0_dn20_r1.5/alpha0.03_an0_dn20_r1.5_L_area50FilteredTexture.gii\n",
      "../data/OASIS_all_subjects/OAS1_0295/dpfMap/alpha_0.03/an0_dn20_r1.5/alpha0.03_an0_dn20_r1.5_L_area50FilteredTexture.gii\n",
      "../data/OASIS_all_subjects/OAS1_0344/dpfMap/alpha_0.03/an0_dn20_r1.5/alpha0.03_an0_dn20_r1.5_L_area50FilteredTexture.gii\n",
      "../data/OASIS_all_subjects/OAS1_0408/dpfMap/alpha_0.03/an0_dn20_r1.5/alpha0.03_an0_dn20_r1.5_L_area50FilteredTexture.gii\n",
      "../data/OASIS_all_subjects/OAS1_0353/dpfMap/alpha_0.03/an0_dn20_r1.5/alpha0.03_an0_dn20_r1.5_L_area50FilteredTexture.gii\n",
      "../data/OASIS_all_subjects/OAS1_0310/dpfMap/alpha_0.03/an0_dn20_r1.5/alpha0.03_an0_dn20_r1.5_L_area50FilteredTexture.gii\n",
      "../data/OASIS_all_subjects/OAS1_0302/dpfMap/alpha_0.03/an0_dn20_r1.5/alpha0.03_an0_dn20_r1.5_L_area50FilteredTexture.gii\n",
      "../data/OASIS_all_subjects/OAS1_0346/dpfMap/alpha_0.03/an0_dn20_r1.5/alpha0.03_an0_dn20_r1.5_L_area50FilteredTexture.gii\n",
      "../data/OASIS_all_subjects/OAS1_0108/dpfMap/alpha_0.03/an0_dn20_r1.5/alpha0.03_an0_dn20_r1.5_L_area50FilteredTexture.gii\n",
      "../data/OASIS_all_subjects/OAS1_0131/dpfMap/alpha_0.03/an0_dn20_r1.5/alpha0.03_an0_dn20_r1.5_L_area50FilteredTexture.gii\n",
      "../data/OASIS_all_subjects/OAS1_0416/dpfMap/alpha_0.03/an0_dn20_r1.5/alpha0.03_an0_dn20_r1.5_L_area50FilteredTexture.gii\n",
      "../data/OASIS_all_subjects/OAS1_0004/dpfMap/alpha_0.03/an0_dn20_r1.5/alpha0.03_an0_dn20_r1.5_L_area50FilteredTexture.gii\n",
      "../data/OASIS_all_subjects/OAS1_0419/dpfMap/alpha_0.03/an0_dn20_r1.5/alpha0.03_an0_dn20_r1.5_L_area50FilteredTexture.gii\n",
      "../data/OASIS_all_subjects/OAS1_0281/dpfMap/alpha_0.03/an0_dn20_r1.5/alpha0.03_an0_dn20_r1.5_L_area50FilteredTexture.gii\n",
      "../data/OASIS_all_subjects/OAS1_0156/dpfMap/alpha_0.03/an0_dn20_r1.5/alpha0.03_an0_dn20_r1.5_L_area50FilteredTexture.gii\n",
      "../data/OASIS_all_subjects/OAS1_0431/dpfMap/alpha_0.03/an0_dn20_r1.5/alpha0.03_an0_dn20_r1.5_L_area50FilteredTexture.gii\n",
      "../data/OASIS_all_subjects/OAS1_0377/dpfMap/alpha_0.03/an0_dn20_r1.5/alpha0.03_an0_dn20_r1.5_L_area50FilteredTexture.gii\n",
      "../data/OASIS_all_subjects/OAS1_0232/dpfMap/alpha_0.03/an0_dn20_r1.5/alpha0.03_an0_dn20_r1.5_L_area50FilteredTexture.gii\n",
      "../data/OASIS_all_subjects/OAS1_0420/dpfMap/alpha_0.03/an0_dn20_r1.5/alpha0.03_an0_dn20_r1.5_L_area50FilteredTexture.gii\n",
      "../data/OASIS_all_subjects/OAS1_0296/dpfMap/alpha_0.03/an0_dn20_r1.5/alpha0.03_an0_dn20_r1.5_L_area50FilteredTexture.gii\n",
      "../data/OASIS_all_subjects/OAS1_0386/dpfMap/alpha_0.03/an0_dn20_r1.5/alpha0.03_an0_dn20_r1.5_L_area50FilteredTexture.gii\n",
      "../data/OASIS_all_subjects/OAS1_0421/dpfMap/alpha_0.03/an0_dn20_r1.5/alpha0.03_an0_dn20_r1.5_L_area50FilteredTexture.gii\n",
      "../data/OASIS_all_subjects/OAS1_0192/dpfMap/alpha_0.03/an0_dn20_r1.5/alpha0.03_an0_dn20_r1.5_L_area50FilteredTexture.gii\n",
      "../data/OASIS_all_subjects/OAS1_0333/dpfMap/alpha_0.03/an0_dn20_r1.5/alpha0.03_an0_dn20_r1.5_L_area50FilteredTexture.gii\n",
      "../data/OASIS_all_subjects/OAS1_0319/dpfMap/alpha_0.03/an0_dn20_r1.5/alpha0.03_an0_dn20_r1.5_L_area50FilteredTexture.gii\n",
      "../data/OASIS_all_subjects/OAS1_0193/dpfMap/alpha_0.03/an0_dn20_r1.5/alpha0.03_an0_dn20_r1.5_L_area50FilteredTexture.gii\n",
      "../data/OASIS_all_subjects/OAS1_0394/dpfMap/alpha_0.03/an0_dn20_r1.5/alpha0.03_an0_dn20_r1.5_L_area50FilteredTexture.gii\n",
      "../data/OASIS_all_subjects/OAS1_0249/dpfMap/alpha_0.03/an0_dn20_r1.5/alpha0.03_an0_dn20_r1.5_L_area50FilteredTexture.gii\n",
      "../data/OASIS_all_subjects/OAS1_0012/dpfMap/alpha_0.03/an0_dn20_r1.5/alpha0.03_an0_dn20_r1.5_L_area50FilteredTexture.gii\n",
      "../data/OASIS_all_subjects/OAS1_0127/dpfMap/alpha_0.03/an0_dn20_r1.5/alpha0.03_an0_dn20_r1.5_L_area50FilteredTexture.gii\n",
      "../data/OASIS_all_subjects/OAS1_0043/dpfMap/alpha_0.03/an0_dn20_r1.5/alpha0.03_an0_dn20_r1.5_L_area50FilteredTexture.gii\n",
      "../data/OASIS_all_subjects/OAS1_0340/dpfMap/alpha_0.03/an0_dn20_r1.5/alpha0.03_an0_dn20_r1.5_L_area50FilteredTexture.gii\n",
      "../data/OASIS_all_subjects/OAS1_0145/dpfMap/alpha_0.03/an0_dn20_r1.5/alpha0.03_an0_dn20_r1.5_L_area50FilteredTexture.gii\n",
      "../data/OASIS_all_subjects/OAS1_0318/dpfMap/alpha_0.03/an0_dn20_r1.5/alpha0.03_an0_dn20_r1.5_L_area50FilteredTexture.gii\n",
      "../data/OASIS_all_subjects/OAS1_0368/dpfMap/alpha_0.03/an0_dn20_r1.5/alpha0.03_an0_dn20_r1.5_L_area50FilteredTexture.gii\n",
      "../data/OASIS_all_subjects/OAS1_0189/dpfMap/alpha_0.03/an0_dn20_r1.5/alpha0.03_an0_dn20_r1.5_L_area50FilteredTexture.gii\n",
      "../data/OASIS_all_subjects/OAS1_0005/dpfMap/alpha_0.03/an0_dn20_r1.5/alpha0.03_an0_dn20_r1.5_L_area50FilteredTexture.gii\n",
      "../data/OASIS_all_subjects/OAS1_0077/dpfMap/alpha_0.03/an0_dn20_r1.5/alpha0.03_an0_dn20_r1.5_L_area50FilteredTexture.gii\n",
      "../data/OASIS_all_subjects/OAS1_0202/dpfMap/alpha_0.03/an0_dn20_r1.5/alpha0.03_an0_dn20_r1.5_L_area50FilteredTexture.gii\n",
      "../data/OASIS_all_subjects/OAS1_0059/dpfMap/alpha_0.03/an0_dn20_r1.5/alpha0.03_an0_dn20_r1.5_L_area50FilteredTexture.gii\n",
      "../data/OASIS_all_subjects/OAS1_0029/dpfMap/alpha_0.03/an0_dn20_r1.5/alpha0.03_an0_dn20_r1.5_L_area50FilteredTexture.gii\n",
      "../data/OASIS_all_subjects/OAS1_0126/dpfMap/alpha_0.03/an0_dn20_r1.5/alpha0.03_an0_dn20_r1.5_L_area50FilteredTexture.gii\n",
      "../data/OASIS_all_subjects/OAS1_0348/dpfMap/alpha_0.03/an0_dn20_r1.5/alpha0.03_an0_dn20_r1.5_L_area50FilteredTexture.gii\n",
      "../data/OASIS_all_subjects/OAS1_0439/dpfMap/alpha_0.03/an0_dn20_r1.5/alpha0.03_an0_dn20_r1.5_L_area50FilteredTexture.gii\n",
      "../data/OASIS_all_subjects/OAS1_0038/dpfMap/alpha_0.03/an0_dn20_r1.5/alpha0.03_an0_dn20_r1.5_L_area50FilteredTexture.gii\n",
      "../data/OASIS_all_subjects/OAS1_0117/dpfMap/alpha_0.03/an0_dn20_r1.5/alpha0.03_an0_dn20_r1.5_L_area50FilteredTexture.gii\n",
      "../data/OASIS_all_subjects/OAS1_0385/dpfMap/alpha_0.03/an0_dn20_r1.5/alpha0.03_an0_dn20_r1.5_L_area50FilteredTexture.gii\n",
      "../data/OASIS_all_subjects/OAS1_0162/dpfMap/alpha_0.03/an0_dn20_r1.5/alpha0.03_an0_dn20_r1.5_L_area50FilteredTexture.gii\n",
      "../data/OASIS_all_subjects/OAS1_0253/dpfMap/alpha_0.03/an0_dn20_r1.5/alpha0.03_an0_dn20_r1.5_L_area50FilteredTexture.gii\n",
      "../data/OASIS_all_subjects/OAS1_0045/dpfMap/alpha_0.03/an0_dn20_r1.5/alpha0.03_an0_dn20_r1.5_L_area50FilteredTexture.gii\n",
      "../data/OASIS_all_subjects/OAS1_0092/dpfMap/alpha_0.03/an0_dn20_r1.5/alpha0.03_an0_dn20_r1.5_L_area50FilteredTexture.gii\n",
      "../data/OASIS_all_subjects/OAS1_0061/dpfMap/alpha_0.03/an0_dn20_r1.5/alpha0.03_an0_dn20_r1.5_L_area50FilteredTexture.gii\n",
      "../data/OASIS_all_subjects/OAS1_0359/dpfMap/alpha_0.03/an0_dn20_r1.5/alpha0.03_an0_dn20_r1.5_L_area50FilteredTexture.gii\n",
      "../data/OASIS_all_subjects/OAS1_0054/dpfMap/alpha_0.03/an0_dn20_r1.5/alpha0.03_an0_dn20_r1.5_L_area50FilteredTexture.gii\n",
      "../data/OASIS_all_subjects/OAS1_0051/dpfMap/alpha_0.03/an0_dn20_r1.5/alpha0.03_an0_dn20_r1.5_L_area50FilteredTexture.gii\n",
      "../data/OASIS_all_subjects/OAS1_0227/dpfMap/alpha_0.03/an0_dn20_r1.5/alpha0.03_an0_dn20_r1.5_L_area50FilteredTexture.gii\n",
      "../data/OASIS_all_subjects/OAS1_0107/dpfMap/alpha_0.03/an0_dn20_r1.5/alpha0.03_an0_dn20_r1.5_L_area50FilteredTexture.gii\n",
      "../data/OASIS_all_subjects/OAS1_0406/dpfMap/alpha_0.03/an0_dn20_r1.5/alpha0.03_an0_dn20_r1.5_L_area50FilteredTexture.gii\n",
      "../data/OASIS_all_subjects/OAS1_0395/dpfMap/alpha_0.03/an0_dn20_r1.5/alpha0.03_an0_dn20_r1.5_L_area50FilteredTexture.gii\n",
      "../data/OASIS_all_subjects/OAS1_0150/dpfMap/alpha_0.03/an0_dn20_r1.5/alpha0.03_an0_dn20_r1.5_L_area50FilteredTexture.gii\n",
      "../data/OASIS_all_subjects/OAS1_0006/dpfMap/alpha_0.03/an0_dn20_r1.5/alpha0.03_an0_dn20_r1.5_L_area50FilteredTexture.gii\n",
      "../data/OASIS_all_subjects/OAS1_0450/dpfMap/alpha_0.03/an0_dn20_r1.5/alpha0.03_an0_dn20_r1.5_L_area50FilteredTexture.gii\n",
      "../data/OASIS_all_subjects/OAS1_0437/dpfMap/alpha_0.03/an0_dn20_r1.5/alpha0.03_an0_dn20_r1.5_L_area50FilteredTexture.gii\n",
      "../data/OASIS_all_subjects/OAS1_0009/dpfMap/alpha_0.03/an0_dn20_r1.5/alpha0.03_an0_dn20_r1.5_L_area50FilteredTexture.gii\n",
      "../data/OASIS_all_subjects/OAS1_0231/dpfMap/alpha_0.03/an0_dn20_r1.5/alpha0.03_an0_dn20_r1.5_L_area50FilteredTexture.gii\n",
      "../data/OASIS_all_subjects/OAS1_0370/dpfMap/alpha_0.03/an0_dn20_r1.5/alpha0.03_an0_dn20_r1.5_L_area50FilteredTexture.gii\n",
      "../data/OASIS_all_subjects/OAS1_0121/dpfMap/alpha_0.03/an0_dn20_r1.5/alpha0.03_an0_dn20_r1.5_L_area50FilteredTexture.gii\n",
      "../data/OASIS_all_subjects/OAS1_0350/dpfMap/alpha_0.03/an0_dn20_r1.5/alpha0.03_an0_dn20_r1.5_L_area50FilteredTexture.gii\n",
      "../data/OASIS_all_subjects/OAS1_0313/dpfMap/alpha_0.03/an0_dn20_r1.5/alpha0.03_an0_dn20_r1.5_L_area50FilteredTexture.gii\n",
      "../data/OASIS_all_subjects/OAS1_0214/dpfMap/alpha_0.03/an0_dn20_r1.5/alpha0.03_an0_dn20_r1.5_L_area50FilteredTexture.gii\n",
      "../data/OASIS_all_subjects/OAS1_0087/dpfMap/alpha_0.03/an0_dn20_r1.5/alpha0.03_an0_dn20_r1.5_L_area50FilteredTexture.gii\n",
      "../data/OASIS_all_subjects/OAS1_0211/dpfMap/alpha_0.03/an0_dn20_r1.5/alpha0.03_an0_dn20_r1.5_L_area50FilteredTexture.gii\n",
      "../data/OASIS_all_subjects/OAS1_0285/dpfMap/alpha_0.03/an0_dn20_r1.5/alpha0.03_an0_dn20_r1.5_L_area50FilteredTexture.gii\n",
      "../data/OASIS_all_subjects/OAS1_0097/dpfMap/alpha_0.03/an0_dn20_r1.5/alpha0.03_an0_dn20_r1.5_L_area50FilteredTexture.gii\n",
      "../data/OASIS_all_subjects/OAS1_0152/dpfMap/alpha_0.03/an0_dn20_r1.5/alpha0.03_an0_dn20_r1.5_L_area50FilteredTexture.gii\n",
      "../data/OASIS_all_subjects/OAS1_0148/dpfMap/alpha_0.03/an0_dn20_r1.5/alpha0.03_an0_dn20_r1.5_L_area50FilteredTexture.gii\n",
      "../data/OASIS_all_subjects/OAS1_0140/dpfMap/alpha_0.03/an0_dn20_r1.5/alpha0.03_an0_dn20_r1.5_L_area50FilteredTexture.gii\n",
      "../data/OASIS_all_subjects/OAS1_0079/dpfMap/alpha_0.03/an0_dn20_r1.5/alpha0.03_an0_dn20_r1.5_L_area50FilteredTexture.gii\n",
      "../data/OASIS_all_subjects/OAS1_0224/dpfMap/alpha_0.03/an0_dn20_r1.5/alpha0.03_an0_dn20_r1.5_L_area50FilteredTexture.gii\n",
      "../data/OASIS_all_subjects/OAS1_0017/dpfMap/alpha_0.03/an0_dn20_r1.5/alpha0.03_an0_dn20_r1.5_L_area50FilteredTexture.gii\n",
      "../data/OASIS_all_subjects/OAS1_0264/dpfMap/alpha_0.03/an0_dn20_r1.5/alpha0.03_an0_dn20_r1.5_L_area50FilteredTexture.gii\n",
      "../data/OASIS_all_subjects/OAS1_0141/dpfMap/alpha_0.03/an0_dn20_r1.5/alpha0.03_an0_dn20_r1.5_L_area50FilteredTexture.gii\n",
      "../data/OASIS_all_subjects/OAS1_0328/dpfMap/alpha_0.03/an0_dn20_r1.5/alpha0.03_an0_dn20_r1.5_L_area50FilteredTexture.gii\n",
      "../data/OASIS_all_subjects/OAS1_0144/dpfMap/alpha_0.03/an0_dn20_r1.5/alpha0.03_an0_dn20_r1.5_L_area50FilteredTexture.gii\n",
      "../data/OASIS_all_subjects/OAS1_0125/dpfMap/alpha_0.03/an0_dn20_r1.5/alpha0.03_an0_dn20_r1.5_L_area50FilteredTexture.gii\n",
      "../data/OASIS_all_subjects/OAS1_0095/dpfMap/alpha_0.03/an0_dn20_r1.5/alpha0.03_an0_dn20_r1.5_L_area50FilteredTexture.gii\n",
      "../data/OASIS_all_subjects/OAS1_0294/dpfMap/alpha_0.03/an0_dn20_r1.5/alpha0.03_an0_dn20_r1.5_L_area50FilteredTexture.gii\n",
      "../data/OASIS_all_subjects/OAS1_0239/dpfMap/alpha_0.03/an0_dn20_r1.5/alpha0.03_an0_dn20_r1.5_L_area50FilteredTexture.gii\n",
      "../data/OASIS_all_subjects/OAS1_0090/dpfMap/alpha_0.03/an0_dn20_r1.5/alpha0.03_an0_dn20_r1.5_L_area50FilteredTexture.gii\n",
      "../data/OASIS_all_subjects/OAS1_0311/dpfMap/alpha_0.03/an0_dn20_r1.5/alpha0.03_an0_dn20_r1.5_L_area50FilteredTexture.gii\n",
      "../data/OASIS_all_subjects/OAS1_0025/dpfMap/alpha_0.03/an0_dn20_r1.5/alpha0.03_an0_dn20_r1.5_L_area50FilteredTexture.gii\n",
      "../data/OASIS_all_subjects/OAS1_0132/dpfMap/alpha_0.03/an0_dn20_r1.5/alpha0.03_an0_dn20_r1.5_L_area50FilteredTexture.gii\n",
      "../data/OASIS_all_subjects/OAS1_0415/dpfMap/alpha_0.03/an0_dn20_r1.5/alpha0.03_an0_dn20_r1.5_L_area50FilteredTexture.gii\n",
      "../data/OASIS_all_subjects/OAS1_0069/dpfMap/alpha_0.03/an0_dn20_r1.5/alpha0.03_an0_dn20_r1.5_L_area50FilteredTexture.gii\n",
      "../data/OASIS_all_subjects/OAS1_0104/dpfMap/alpha_0.03/an0_dn20_r1.5/alpha0.03_an0_dn20_r1.5_L_area50FilteredTexture.gii\n",
      "../data/OASIS_all_subjects/OAS1_0007/dpfMap/alpha_0.03/an0_dn20_r1.5/alpha0.03_an0_dn20_r1.5_L_area50FilteredTexture.gii\n",
      "../data/OASIS_all_subjects/OAS1_0376/dpfMap/alpha_0.03/an0_dn20_r1.5/alpha0.03_an0_dn20_r1.5_L_area50FilteredTexture.gii\n",
      "../data/OASIS_all_subjects/OAS1_0392/dpfMap/alpha_0.03/an0_dn20_r1.5/alpha0.03_an0_dn20_r1.5_L_area50FilteredTexture.gii\n",
      "../data/OASIS_all_subjects/OAS1_0435/dpfMap/alpha_0.03/an0_dn20_r1.5/alpha0.03_an0_dn20_r1.5_L_area50FilteredTexture.gii\n",
      "../data/OASIS_all_subjects/OAS1_0236/dpfMap/alpha_0.03/an0_dn20_r1.5/alpha0.03_an0_dn20_r1.5_L_area50FilteredTexture.gii\n",
      "../data/OASIS_all_subjects/OAS1_0448/dpfMap/alpha_0.03/an0_dn20_r1.5/alpha0.03_an0_dn20_r1.5_L_area50FilteredTexture.gii\n",
      "../data/OASIS_all_subjects/OAS1_0037/dpfMap/alpha_0.03/an0_dn20_r1.5/alpha0.03_an0_dn20_r1.5_L_area50FilteredTexture.gii\n",
      "../data/OASIS_all_subjects/OAS1_0417/dpfMap/alpha_0.03/an0_dn20_r1.5/alpha0.03_an0_dn20_r1.5_L_area50FilteredTexture.gii\n",
      "../data/OASIS_all_subjects/OAS1_0105/dpfMap/alpha_0.03/an0_dn20_r1.5/alpha0.03_an0_dn20_r1.5_L_area50FilteredTexture.gii\n",
      "../data/OASIS_all_subjects/OAS1_0413/dpfMap/alpha_0.03/an0_dn20_r1.5/alpha0.03_an0_dn20_r1.5_L_area50FilteredTexture.gii\n",
      "../data/OASIS_all_subjects/OAS1_0111/dpfMap/alpha_0.03/an0_dn20_r1.5/alpha0.03_an0_dn20_r1.5_L_area50FilteredTexture.gii\n",
      "../data/OASIS_all_subjects/OAS1_0261/dpfMap/alpha_0.03/an0_dn20_r1.5/alpha0.03_an0_dn20_r1.5_L_area50FilteredTexture.gii\n",
      "../data/OASIS_all_subjects/OAS1_0314/dpfMap/alpha_0.03/an0_dn20_r1.5/alpha0.03_an0_dn20_r1.5_L_area50FilteredTexture.gii\n",
      "../data/OASIS_all_subjects/OAS1_0209/dpfMap/alpha_0.03/an0_dn20_r1.5/alpha0.03_an0_dn20_r1.5_L_area50FilteredTexture.gii\n",
      "../data/OASIS_all_subjects/OAS1_0191/dpfMap/alpha_0.03/an0_dn20_r1.5/alpha0.03_an0_dn20_r1.5_L_area50FilteredTexture.gii\n",
      "../data/OASIS_all_subjects/OAS1_0277/dpfMap/alpha_0.03/an0_dn20_r1.5/alpha0.03_an0_dn20_r1.5_L_area50FilteredTexture.gii\n",
      "../data/OASIS_all_subjects/OAS1_0403/dpfMap/alpha_0.03/an0_dn20_r1.5/alpha0.03_an0_dn20_r1.5_L_area50FilteredTexture.gii\n",
      "../data/OASIS_all_subjects/OAS1_0396/dpfMap/alpha_0.03/an0_dn20_r1.5/alpha0.03_an0_dn20_r1.5_L_area50FilteredTexture.gii\n",
      "../data/OASIS_all_subjects/OAS1_0379/dpfMap/alpha_0.03/an0_dn20_r1.5/alpha0.03_an0_dn20_r1.5_L_area50FilteredTexture.gii\n",
      "../data/OASIS_all_subjects/OAS1_0361/dpfMap/alpha_0.03/an0_dn20_r1.5/alpha0.03_an0_dn20_r1.5_L_area50FilteredTexture.gii\n",
      "../data/OASIS_all_subjects/OAS1_0218/dpfMap/alpha_0.03/an0_dn20_r1.5/alpha0.03_an0_dn20_r1.5_L_area50FilteredTexture.gii\n",
      "../data/OASIS_all_subjects/OAS1_0325/dpfMap/alpha_0.03/an0_dn20_r1.5/alpha0.03_an0_dn20_r1.5_L_area50FilteredTexture.gii\n",
      "../data/OASIS_all_subjects/OAS1_0119/dpfMap/alpha_0.03/an0_dn20_r1.5/alpha0.03_an0_dn20_r1.5_L_area50FilteredTexture.gii\n",
      "../data/OASIS_all_subjects/OAS1_0147/dpfMap/alpha_0.03/an0_dn20_r1.5/alpha0.03_an0_dn20_r1.5_L_area50FilteredTexture.gii\n",
      "../data/OASIS_all_subjects/OAS1_0102/dpfMap/alpha_0.03/an0_dn20_r1.5/alpha0.03_an0_dn20_r1.5_L_area50FilteredTexture.gii\n",
      "../data/OASIS_all_subjects/OAS1_0258/dpfMap/alpha_0.03/an0_dn20_r1.5/alpha0.03_an0_dn20_r1.5_L_area50FilteredTexture.gii\n",
      "../data/OASIS_all_subjects/OAS1_0049/dpfMap/alpha_0.03/an0_dn20_r1.5/alpha0.03_an0_dn20_r1.5_L_area50FilteredTexture.gii\n",
      "../data/OASIS_all_subjects/OAS1_0442/dpfMap/alpha_0.03/an0_dn20_r1.5/alpha0.03_an0_dn20_r1.5_L_area50FilteredTexture.gii\n",
      "../data/OASIS_all_subjects/OAS1_0101/dpfMap/alpha_0.03/an0_dn20_r1.5/alpha0.03_an0_dn20_r1.5_L_area50FilteredTexture.gii\n"
     ]
    }
   ],
   "source": [
    "for subjects in correspondence[:,0]:\n",
    "    subj = subjects.split('_lh')[0]\n",
    "    print(path_subjects + subj + path_sub_dir)"
   ]
  },
  {
   "cell_type": "code",
   "execution_count": 92,
   "id": "734b3522",
   "metadata": {},
   "outputs": [
    {
     "data": {
      "text/plain": [
       "array(['OAS1_0439_lh_pitgraph.gpickle', 'graph_00056.gpickle'],\n",
       "      dtype='<U29')"
      ]
     },
     "execution_count": 92,
     "metadata": {},
     "output_type": "execute_result"
    }
   ],
   "source": [
    "correspondence[56]"
   ]
  },
  {
   "cell_type": "code",
   "execution_count": null,
   "id": "1cb2ed1a",
   "metadata": {},
   "outputs": [],
   "source": []
  },
  {
   "cell_type": "code",
   "execution_count": null,
   "id": "555f2fea",
   "metadata": {},
   "outputs": [],
   "source": []
  },
  {
   "cell_type": "code",
   "execution_count": null,
   "id": "7eebae17",
   "metadata": {},
   "outputs": [],
   "source": []
  }
 ],
 "metadata": {
  "kernelspec": {
   "display_name": "Python 3 (ipykernel)",
   "language": "python",
   "name": "python3"
  },
  "language_info": {
   "codemirror_mode": {
    "name": "ipython",
    "version": 3
   },
   "file_extension": ".py",
   "mimetype": "text/x-python",
   "name": "python",
   "nbconvert_exporter": "python",
   "pygments_lexer": "ipython3",
   "version": "3.8.0"
  }
 },
 "nbformat": 4,
 "nbformat_minor": 5
}
