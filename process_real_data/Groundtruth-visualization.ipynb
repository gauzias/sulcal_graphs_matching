{
 "cells": [
  {
   "cell_type": "code",
   "execution_count": 4,
   "metadata": {},
   "outputs": [],
   "source": [
    "import sys\n",
    "sys.path.extend(['/home/rohit/PhD_Work/GM_my_version/Graph_matching'])\n",
    "import tools.graph_visu as gv\n",
    "import tools.graph_processing as gp\n",
    "import slam.io as sio\n",
    "import numpy as np\n",
    "import networkx as nx"
   ]
  },
  {
   "cell_type": "code",
   "execution_count": 18,
   "metadata": {},
   "outputs": [],
   "source": [
    "path_to_graphs = '../data/simu_graph/0/test/0/noise_1400,outliers_8/graphs'\n",
    "gt = np.load('../data/simu_graph/0/test/0/noise_1400,outliers_8/ground_truth.npy')\n",
    "file_template_mesh = '../data/template_mesh/lh.OASIS_testGrp_average_inflated.gii'\n",
    "file_sphere_mesh = '../data/template_mesh/ico100_7.gii'\n",
    "path_to_simu_graphs = \"/home/rohit/PhD_Work/GM_my_version/final_new_simu/0/noise_200,outliers_6/graphs\""
   ]
  },
  {
   "cell_type": "code",
   "execution_count": 6,
   "metadata": {},
   "outputs": [],
   "source": [
    "list_graphs = gp.load_graphs_in_list(path_to_graphs)"
   ]
  },
  {
   "cell_type": "code",
   "execution_count": 19,
   "metadata": {},
   "outputs": [],
   "source": [
    "list_graphs_final_simu = gp.load_graphs_in_list(path_to_simu_graphs)"
   ]
  },
  {
   "cell_type": "code",
   "execution_count": 8,
   "metadata": {},
   "outputs": [],
   "source": [
    "gt_01 = gt[0][4]\n",
    "\n",
    "g = list_graphs[0]\n",
    "g1 = list_graphs[4]\n",
    "\n",
    "dict_lab = {}\n",
    "for node in g1.nodes:\n",
    "    if node >=20:\n",
    "        dict_lab[node] = {'label':-1}\n",
    "    else:\n",
    "        dict_lab[gt_01[node]] = {'label':node}\n",
    "\n",
    "nx.set_node_attributes(g1,dict_lab)\n",
    "\n",
    "dict_lab = {}\n",
    "for node in g.nodes:\n",
    "    if node >=20:\n",
    "        dict_lab[node] = {'label':-1}\n",
    "    else:\n",
    "        dict_lab[node] = {'label':node}\n",
    "nx.set_node_attributes(g,dict_lab)"
   ]
  },
  {
   "cell_type": "code",
   "execution_count": 30,
   "metadata": {
    "scrolled": true
   },
   "outputs": [
    {
     "data": {
      "text/plain": [
       "NodeView((0, 1, 27, 3, 4, 5, 6, 7, 22, 24, 10, 25, 12, 13, 14, 21, 26, 20, 18, 19, 17, 15, 8, 23, 9, 11, 16, 2))"
      ]
     },
     "execution_count": 30,
     "metadata": {},
     "output_type": "execute_result"
    }
   ],
   "source": [
    "g1.nodes"
   ]
  },
  {
   "cell_type": "code",
   "execution_count": 31,
   "metadata": {},
   "outputs": [
    {
     "data": {
      "text/plain": [
       "array([17, 10,  2,  0,  7,  1, 16,  9, 15,  3,  6, 11, 12,  8,  4, 18, 14,\n",
       "       13,  5, 19])"
      ]
     },
     "execution_count": 31,
     "metadata": {},
     "output_type": "execute_result"
    }
   ],
   "source": [
    "gt_01"
   ]
  },
  {
   "cell_type": "code",
   "execution_count": 33,
   "metadata": {},
   "outputs": [
    {
     "name": "stdout",
     "output_type": "stream",
     "text": [
      "{'coord': array([ 45.10137757, -88.06192035, -14.52459727]), 'label': 17}\n",
      "{'coord': array([-50.03733913, -84.16323567, -20.31783587]), 'label': 10}\n",
      "{'coord': array([-25.06130415,  95.60418922,  15.2239955 ]), 'label': 2}\n",
      "{'coord': array([ -8.29375734, -99.58600481,   3.72038116]), 'label': 0}\n",
      "{'coord': array([-70.04157873,  70.43770444,  11.51985424]), 'label': 7}\n",
      "{'coord': array([-11.96701424,  65.4787652 ,  74.62788941]), 'label': 1}\n",
      "{'coord': array([ 53.89179539,  82.41435684, -17.42263402]), 'label': 16}\n",
      "{'coord': array([ 16.29928024, -35.40847182,  92.09002979]), 'label': 9}\n",
      "{'coord': array([72.54483145, 11.61456095, 67.84061766]), 'label': 15}\n",
      "{'coord': array([-36.95462701, -52.8159162 ,  76.45151757]), 'label': 3}\n",
      "{'coord': array([-30.4412485 , -26.82708365, -91.39823835]), 'label': 6}\n",
      "{'coord': array([-83.34326539,  -7.02261683, -54.81407635]), 'label': 11}\n",
      "{'coord': array([-93.32844935,  35.80057941,  -2.84939583]), 'label': 12}\n",
      "{'coord': array([ 71.22425583, -70.1867875 ,   0.95929233]), 'label': 8}\n",
      "{'coord': array([42.60480034, 87.95995566, 21.16310915]), 'label': 4}\n",
      "{'coord': array([31.11936669,  5.83497201, 94.85535366]), 'label': 18}\n",
      "{'coord': array([ 30.76645264, -27.35144581, -91.13354928]), 'label': 14}\n",
      "{'coord': array([ 70.84794234, -31.21707088,  63.29347164]), 'label': 13}\n",
      "{'coord': array([ 24.36019656, -95.13667031,  18.85722104]), 'label': 5}\n",
      "{'coord': array([ -7.45368581,  73.06164773, -67.87074627]), 'label': 19}\n"
     ]
    }
   ],
   "source": [
    "for ind in gt_01:\n",
    "    print(g.nodes.data()[ind])"
   ]
  },
  {
   "cell_type": "code",
   "execution_count": 9,
   "metadata": {
    "scrolled": true
   },
   "outputs": [
    {
     "name": "stdout",
     "output_type": "stream",
     "text": [
      "{'coord': array([ -7.08921669, -99.69244653,   3.34052568]), 'label': 0}\n",
      "{'coord': array([-14.43493792,  65.07713683,  74.54259741]), 'label': 1}\n",
      "{'coord': array([-24.44244742,  95.83289148,  14.78592829]), 'label': 2}\n",
      "{'coord': array([-39.19324405, -55.35818349,  73.48034528]), 'label': 3}\n",
      "{'coord': array([42.39562314, 86.65848551, 26.32333618]), 'label': 4}\n",
      "{'coord': array([ 26.17043732, -94.89362398,  17.61557091]), 'label': 5}\n",
      "{'coord': array([-28.03147283, -24.44624697, -92.82573749]), 'label': 6}\n",
      "{'coord': array([-70.64631338,  70.32677352,   7.95256764]), 'label': 7}\n",
      "{'coord': array([ 70.34214339, -70.46782012,   9.28812094]), 'label': 8}\n",
      "{'coord': array([ 19.82312987, -37.47161023,  90.56998371]), 'label': 9}\n",
      "{'coord': array([-51.58397888, -82.79133692, -22.01562294]), 'label': 10}\n",
      "{'coord': array([-82.87257372,  -8.83594789, -55.26357345]), 'label': 11}\n",
      "{'coord': array([-92.52863367,  37.06459574,  -8.04162256]), 'label': 12}\n",
      "{'coord': array([ 72.07456722, -26.18460191,  64.18429234]), 'label': 13}\n",
      "{'coord': array([ 27.91350064, -25.45021487, -92.59116073]), 'label': 14}\n",
      "{'coord': array([69.00610472, 10.33237477, 71.63378772]), 'label': 15}\n",
      "{'coord': array([ 56.1707841 ,  81.05272337, -16.59213813]), 'label': 16}\n",
      "{'coord': array([ 44.20511109, -88.1477868 , -16.60951038]), 'label': 17}\n",
      "{'coord': array([23.91733041,  3.9455821 , 97.01749166]), 'label': 18}\n",
      "{'coord': array([ -6.65992526,  75.53351245, -65.19458484]), 'label': 19}\n"
     ]
    }
   ],
   "source": [
    "for ind in gt_01:\n",
    "    print(g1.nodes.data()[ind])"
   ]
  },
  {
   "cell_type": "code",
   "execution_count": null,
   "metadata": {},
   "outputs": [],
   "source": []
  },
  {
   "cell_type": "code",
   "execution_count": null,
   "metadata": {},
   "outputs": [],
   "source": []
  },
  {
   "cell_type": "code",
   "execution_count": null,
   "metadata": {},
   "outputs": [],
   "source": []
  },
  {
   "cell_type": "code",
   "execution_count": 10,
   "metadata": {},
   "outputs": [],
   "source": [
    "sphere_mesh = sio.load_mesh(file_sphere_mesh)\n",
    "mesh = gv.reg_mesh(sio.load_mesh(file_template_mesh))\n",
    "gp.sphere_nearest_neighbor_interpolation(g, sphere_mesh)\n",
    "gp.sphere_nearest_neighbor_interpolation(g1, sphere_mesh)"
   ]
  },
  {
   "cell_type": "code",
   "execution_count": 179,
   "metadata": {},
   "outputs": [],
   "source": [
    "nodes_coords = gp.graph_nodes_to_coords(g, 'ico100_7_vertex_index', sphere_mesh)\n",
    "nodes_coords_1 = gp.graph_nodes_to_coords(g1, 'ico100_7_vertex_index', sphere_mesh)"
   ]
  },
  {
   "cell_type": "code",
   "execution_count": null,
   "metadata": {
    "scrolled": false
   },
   "outputs": [],
   "source": []
  },
  {
   "cell_type": "code",
   "execution_count": 196,
   "metadata": {},
   "outputs": [
    {
     "name": "stdout",
     "output_type": "stream",
     "text": [
      "[ -8.29375734 -99.58600481   3.72038116] [ -7.08921669 -99.69244653   3.34052568]\n",
      "[-11.96701424  65.4787652   74.62788941] [-14.43493792  65.07713683  74.54259741]\n",
      "[-25.06130415  95.60418922  15.2239955 ] [-24.44244742  95.83289148  14.78592829]\n",
      "[-36.95462701 -52.8159162   76.45151757] [-39.19324405 -55.35818349  73.48034528]\n",
      "[42.60480034 87.95995566 21.16310915] [42.39562314 86.65848551 26.32333618]\n",
      "[ 24.36019656 -95.13667031  18.85722104] [ 26.17043732 -94.89362398  17.61557091]\n",
      "[-30.4412485  -26.82708365 -91.39823835] [-28.03147283 -24.44624697 -92.82573749]\n",
      "[-70.04157873  70.43770444  11.51985424] [-70.64631338  70.32677352   7.95256764]\n",
      "[ 71.22425583 -70.1867875    0.95929233] [ 70.34214339 -70.46782012   9.28812094]\n",
      "[ 16.29928024 -35.40847182  92.09002979] [ 19.82312987 -37.47161023  90.56998371]\n",
      "[-50.03733913 -84.16323567 -20.31783587] [-51.58397888 -82.79133692 -22.01562294]\n",
      "[-83.34326539  -7.02261683 -54.81407635] [-82.87257372  -8.83594789 -55.26357345]\n",
      "[-93.32844935  35.80057941  -2.84939583] [-92.52863367  37.06459574  -8.04162256]\n",
      "[ 70.84794234 -31.21707088  63.29347164] [ 72.07456722 -26.18460191  64.18429234]\n",
      "[ 30.76645264 -27.35144581 -91.13354928] [ 27.91350064 -25.45021487 -92.59116073]\n",
      "[72.54483145 11.61456095 67.84061766] [69.00610472 10.33237477 71.63378772]\n",
      "[ 53.89179539  82.41435684 -17.42263402] [ 56.1707841   81.05272337 -16.59213813]\n",
      "[ 45.10137757 -88.06192035 -14.52459727] [ 44.20511109 -88.1477868  -16.60951038]\n",
      "[31.11936669  5.83497201 94.85535366] [23.91733041  3.9455821  97.01749166]\n",
      "[ -7.45368581  73.06164773 -67.87074627] [ -6.65992526  75.53351245 -65.19458484]\n",
      "20\n"
     ]
    }
   ],
   "source": [
    "counter = 0\n",
    "rest = []\n",
    "for i in range(len(g.nodes)):\n",
    "    for ind in gt_01:\n",
    "        if(g.nodes.data()[i]['label'] == g1.nodes.data()[ind]['label']):\n",
    "            print(g.nodes.data()[i]['coord'],g1.nodes.data()[ind]['coord'])\n",
    "            counter+=1\n",
    "        elif:\n",
    "print(counter)"
   ]
  },
  {
   "cell_type": "code",
   "execution_count": 15,
   "metadata": {},
   "outputs": [],
   "source": [
    "un = nx.disjoint_union(g,g1)"
   ]
  },
  {
   "cell_type": "code",
   "execution_count": 40,
   "metadata": {},
   "outputs": [
    {
     "name": "stdout",
     "output_type": "stream",
     "text": [
      "[-56.11889642  25.04223002 -78.88951883]\n",
      "[  2.77552172  97.88816609 -20.25347916]\n",
      "[90.66891087 41.1681157  -9.18340084]\n",
      "[-59.3130305   62.22627475  51.08674138]\n",
      "[-16.49106543 -91.55535387  36.68326511]\n",
      "[ 33.0934391  -78.95991037 -51.67356038]\n",
      "[99.23325098 -8.58575806  8.89081878]\n",
      "[62.88857825 58.68303726 51.00321424]\n",
      "[ 76.43996182 -59.14811233 -25.65995021]\n",
      "[-41.37398695 -14.95721347  89.80242184]\n",
      "[-56.01050275 -81.91700632  12.34615961]\n",
      "[  2.33495907 -88.65652333  46.20139432]\n",
      "[ 34.32323732 -81.26778022 -47.0899488 ]\n",
      "[ 24.10658203  22.49024288 -94.40901269]\n",
      "[-30.7927306   65.37255605  69.12479047]\n",
      "[ 50.5466927   38.5684428  -77.18488892]\n"
     ]
    }
   ],
   "source": [
    "for i in un.nodes():\n",
    "    if((un.nodes.data()[i]['label']==50)):\n",
    "       print(un.nodes.data()[i]['coord'])"
   ]
  },
  {
   "cell_type": "code",
   "execution_count": null,
   "metadata": {},
   "outputs": [],
   "source": []
  }
 ],
 "metadata": {
  "kernelspec": {
   "display_name": "Python 3",
   "language": "python",
   "name": "python3"
  },
  "language_info": {
   "codemirror_mode": {
    "name": "ipython",
    "version": 3
   },
   "file_extension": ".py",
   "mimetype": "text/x-python",
   "name": "python",
   "nbconvert_exporter": "python",
   "pygments_lexer": "ipython3",
   "version": "3.8.3"
  }
 },
 "nbformat": 4,
 "nbformat_minor": 4
}
